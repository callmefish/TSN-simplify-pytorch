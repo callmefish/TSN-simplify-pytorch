{
 "cells": [
  {
   "cell_type": "code",
   "execution_count": 1,
   "metadata": {},
   "outputs": [
    {
     "data": {
      "text/plain": [
       "'rgbdiff'"
      ]
     },
     "execution_count": 1,
     "metadata": {},
     "output_type": "execute_result"
    }
   ],
   "source": [
    "'RGBDiff'.lower()"
   ]
  },
  {
   "cell_type": "code",
   "execution_count": 3,
   "metadata": {},
   "outputs": [
    {
     "name": "stdout",
     "output_type": "stream",
     "text": [
      "\n",
      "            Initializing TSN with base model: BNInception.\n",
      "            TSN Configurations:\n",
      "                input_modality:     RGB\n",
      "                num_segments:       3\n",
      "                new_length:         1\n",
      "                consensus_module:   avg\n",
      "                dropout_ratio:      0.8\n",
      "                    \n"
     ]
    },
    {
     "name": "stderr",
     "output_type": "stream",
     "text": [
      "\n",
      "\n",
      "  0%|          | 0/15 [00:00<?, ?it/s]\u001b[A\u001b[A"
     ]
    },
    {
     "name": "stdout",
     "output_type": "stream",
     "text": [
      "group: first_conv_weight has 1 params, lr_mult: 1, decay_mult: 1\n",
      "group: first_conv_bias has 1 params, lr_mult: 2, decay_mult: 0\n",
      "group: normal_weight has 69 params, lr_mult: 1, decay_mult: 1\n",
      "group: normal_bias has 69 params, lr_mult: 2, decay_mult: 0\n",
      "group: BN scale/shift has 2 params, lr_mult: 1, decay_mult: 0\n",
      "Freezing BatchNorm2D except the first one.\n"
     ]
    },
    {
     "name": "stderr",
     "output_type": "stream",
     "text": [
      "\n",
      "\n",
      "  7%|▋         | 1/15 [00:01<00:25,  1.79s/it]\u001b[A\u001b[A\n",
      "\n",
      " 13%|█▎        | 2/15 [00:02<00:19,  1.53s/it]\u001b[A\u001b[A\n",
      "\n",
      " 20%|██        | 3/15 [00:03<00:15,  1.30s/it]\u001b[A\u001b[A\n",
      "\n",
      " 27%|██▋       | 4/15 [00:04<00:12,  1.14s/it]\u001b[A\u001b[A\n",
      "\n",
      " 33%|███▎      | 5/15 [00:05<00:10,  1.03s/it]\u001b[A\u001b[A\n",
      "\n",
      " 40%|████      | 6/15 [00:05<00:08,  1.05it/s]\u001b[A\u001b[A\n",
      "\n",
      " 47%|████▋     | 7/15 [00:06<00:07,  1.11it/s]\u001b[A\u001b[A\n",
      "\n",
      " 53%|█████▎    | 8/15 [00:07<00:06,  1.16it/s]\u001b[A\u001b[A\n",
      "\n",
      " 60%|██████    | 9/15 [00:08<00:05,  1.20it/s]\u001b[A\u001b[A\n",
      "\n",
      " 67%|██████▋   | 10/15 [00:08<00:04,  1.23it/s]\u001b[A\u001b[A\n",
      "\n",
      " 73%|███████▎  | 11/15 [00:09<00:03,  1.25it/s]\u001b[A\u001b[A\n",
      "\n",
      " 80%|████████  | 12/15 [00:10<00:02,  1.26it/s]\u001b[A\u001b[A\n",
      "\n",
      " 87%|████████▋ | 13/15 [00:11<00:01,  1.27it/s]\u001b[A\u001b[A\n",
      "\n",
      " 93%|█████████▎| 14/15 [00:11<00:00,  1.28it/s]\u001b[A\u001b[A\n",
      "\n",
      "100%|██████████| 15/15 [00:12<00:00,  1.18it/s]\u001b[A\u001b[A\n",
      "\n",
      "\n",
      "  0%|          | 0/5 [00:00<?, ?it/s]\u001b[A\u001b[A"
     ]
    },
    {
     "name": "stdout",
     "output_type": "stream",
     "text": [
      "Batch Time [0.846] Epoch Time [12.686] Data [0.096] \n",
      "Loss [0.57424] Prec@1 [67.7871] LR 0.001\n",
      "\n",
      "Freezing BatchNorm2D except the first one.\n",
      "['v_NotSlipping_g01_c05', 'v_NotSlipping_g01_c10', 'v_NotSlipping_g02_c04', 'v_NotSlipping_g02_c08', 'v_NotSlipping_g03_c02', 'v_NotSlipping_g03_c06', 'v_NotSlipping_g03_c10', 'v_NotSlipping_g04_c04', 'v_NotSlipping_g04_c08', 'v_NotSlipping_g05_c03', 'v_NotSlipping_g05_c07', 'v_NotSlipping_g06_c01', 'v_NotSlipping_g06_c05', 'v_NotSlipping_g06_c09', 'v_NotSlipping_g07_c04', 'v_NotSlipping_g07_c09', 'v_NotSlipping_g08_c03', 'v_NotSlipping_g08_c07', 'v_NotSlipping_g09_c01', 'v_NotSlipping_g09_c06', 'v_NotSlipping_g09_c10', 'v_NotSlipping_g10_c05', 'v_NotSlipping_g10_c10', 'v_NotSlipping_g11_c04']\n"
     ]
    },
    {
     "name": "stderr",
     "output_type": "stream",
     "text": [
      "\n",
      "\n",
      " 20%|██        | 1/5 [00:00<00:03,  1.18it/s]\u001b[A\u001b[A"
     ]
    },
    {
     "name": "stdout",
     "output_type": "stream",
     "text": [
      "['v_NotSlipping_g11_c08', 'v_NotSlipping_g12_c02', 'v_NotSlipping_g12_c07', 'v_NotSlipping_g13_c01', 'v_NotSlipping_g13_c06', 'v_NotSlipping_g13_c10', 'v_NotSlipping_g14_c04', 'v_NotSlipping_g14_c08', 'v_NotSlipping_g15_c02', 'v_NotSlipping_g15_c06', 'v_NotSlipping_g15_c10', 'v_NotSlipping_g16_c04', 'v_NotSlipping_g16_c08', 'v_NotSlipping_g17_c02', 'v_NotSlipping_g17_c06', 'v_NotSlipping_g17_c10', 'v_NotSlipping_g18_c04', 'v_NotSlipping_g18_c08', 'v_NotSlipping_g19_c02', 'v_NotSlipping_g19_c07', 'v_NotSlipping_g20_c04', 'v_NotSlipping_g20_c08', 'v_NotSlipping_g21_c03', 'v_NotSlipping_g21_c07']\n"
     ]
    },
    {
     "name": "stderr",
     "output_type": "stream",
     "text": [
      "\n",
      "\n",
      " 40%|████      | 2/5 [00:01<00:02,  1.46it/s]\u001b[A\u001b[A"
     ]
    },
    {
     "name": "stdout",
     "output_type": "stream",
     "text": [
      "['v_NotSlipping_g22_c01', 'v_NotSlipping_g22_c05', 'v_NotSlipping_g22_c09', 'v_NotSlipping_g23_c03', 'v_NotSlipping_g23_c07', 'v_NotSlipping_g24_c02', 'v_NotSlipping_g24_c06', 'v_NotSlipping_g25_c01', 'v_NotSlipping_g25_c06', 'v_NotSlipping_g25_c10', 'v_NotSlipping_g26_c04', 'v_NotSlipping_g26_c08', 'v_NotSlipping_g27_c03', 'v_NotSlipping_g27_c07', 'v_NotSlipping_g28_c02', 'v_NotSlipping_g28_c07', 'v_NotSlipping_g29_c01', 'v_NotSlipping_g29_c05', 'v_NotSlipping_g29_c09', 'v_NotSlipping_g30_c07', 'v_NotSlipping_g31_c01', 'v_Slipping_g01_c03', 'v_Slipping_g01_c07', 'v_Slipping_g02_c01']\n"
     ]
    },
    {
     "name": "stderr",
     "output_type": "stream",
     "text": [
      "\n",
      "\n",
      " 60%|██████    | 3/5 [00:01<00:01,  1.80it/s]\u001b[A\u001b[A"
     ]
    },
    {
     "name": "stdout",
     "output_type": "stream",
     "text": [
      "['v_Slipping_g02_c05', 'v_Slipping_g02_c09', 'v_Slipping_g03_c03', 'v_Slipping_g03_c07', 'v_Slipping_g04_c01', 'v_Slipping_g04_c05', 'v_Slipping_g04_c09', 'v_Slipping_g05_c03', 'v_Slipping_g05_c07', 'v_Slipping_g06_c01', 'v_Slipping_g06_c05', 'v_Slipping_g06_c09', 'v_Slipping_g07_c03', 'v_Slipping_g07_c07', 'v_Slipping_g08_c01', 'v_Slipping_g08_c05', 'v_Slipping_g08_c09', 'v_Slipping_g09_c03', 'v_Slipping_g09_c07', 'v_Slipping_g10_c01', 'v_Slipping_g10_c05', 'v_Slipping_g10_c09', 'v_Slipping_g11_c03', 'v_Slipping_g11_c07']\n"
     ]
    },
    {
     "name": "stderr",
     "output_type": "stream",
     "text": [
      "\n",
      "\n",
      " 80%|████████  | 4/5 [00:01<00:00,  2.13it/s]\u001b[A\u001b[A"
     ]
    },
    {
     "name": "stdout",
     "output_type": "stream",
     "text": [
      "['v_Slipping_g12_c01', 'v_Slipping_g12_c05', 'v_Slipping_g12_c09', 'v_Slipping_g13_c03', 'v_Slipping_g13_c07', 'v_Slipping_g14_c01', 'v_Slipping_g14_c05', 'v_Slipping_g14_c09', 'v_Slipping_g15_c03', 'v_Slipping_g15_c07', 'v_Slipping_g16_c01', 'v_Slipping_g16_c05', 'v_Slipping_g16_c09', 'v_Slipping_g17_c03', 'v_Slipping_g17_c07', 'v_Slipping_g18_c01', 'v_Slipping_g18_c05', 'v_Slipping_g18_c09', 'v_Slipping_g19_c03', 'v_Slipping_g19_c07', 'v_Slipping_g20_c01', 'v_Slipping_g20_c05']\n"
     ]
    },
    {
     "name": "stderr",
     "output_type": "stream",
     "text": [
      "\n",
      "\n",
      "100%|██████████| 5/5 [00:04<00:00,  1.07it/s]\u001b[A\u001b[A\n"
     ]
    },
    {
     "name": "stdout",
     "output_type": "stream",
     "text": [
      "Batch Time [0.911] Epoch Time [4.553] \n",
      "Loss [0.44908] Prec@1 [77.1186] \n"
     ]
    }
   ],
   "source": [
    "run main.py"
   ]
  },
  {
   "cell_type": "code",
   "execution_count": null,
   "metadata": {},
   "outputs": [],
   "source": []
  }
 ],
 "metadata": {
  "kernelspec": {
   "display_name": "Python 3",
   "language": "python",
   "name": "python3"
  },
  "language_info": {
   "codemirror_mode": {
    "name": "ipython",
    "version": 3
   },
   "file_extension": ".py",
   "mimetype": "text/x-python",
   "name": "python",
   "nbconvert_exporter": "python",
   "pygments_lexer": "ipython3",
   "version": "3.7.4"
  }
 },
 "nbformat": 4,
 "nbformat_minor": 4
}
